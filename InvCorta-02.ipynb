{
 "cells": [
  {
   "cell_type": "markdown",
   "id": "9f876588",
   "metadata": {},
   "source": [
    "# Investigacion Corta 2\n",
    "## Hepatitis database\n",
    "Procedemos a trabajar en los pasos en la forma en que normalmente se lleva a cabo el pre-procesado de los datos, se muestran los pasos y ademas se hace uso del dataset \"Hepatitis\", el cual se puede obtener en el link de UCI:\n",
    "http://archive.ics.uci.edu/ml/datasets/Hepatitis"
   ]
  },
  {
   "cell_type": "code",
   "execution_count": 6,
   "id": "fead3b18",
   "metadata": {},
   "outputs": [],
   "source": [
    "#se importan las librerias necesarias \n",
    "import numpy as np\n",
    "import pandas as pd\n",
    "import numpy as np\n",
    "from matplotlib import pyplot as plt\n",
    "import seaborn as sns\n",
    "from statistics import mean, median\n",
    "import sklearn\n",
    "from sklearn.datasets import load_boston\n",
    "from scipy import stats\n",
    "from matplotlib import style\n",
    "import matplotlib.ticker as ticker\n",
    "%matplotlib inline"
   ]
  },
  {
   "cell_type": "code",
   "execution_count": 106,
   "id": "04a04f05",
   "metadata": {},
   "outputs": [],
   "source": [
    "# se importa el archivo CSV que contiene el set de datos \"hepatitis\"\n",
    "Hepatitis = pd.read_csv(\"hepatitis.csv\")"
   ]
  },
  {
   "cell_type": "code",
   "execution_count": 107,
   "id": "f022dd3e",
   "metadata": {},
   "outputs": [
    {
     "data": {
      "text/html": [
       "<div>\n",
       "<style scoped>\n",
       "    .dataframe tbody tr th:only-of-type {\n",
       "        vertical-align: middle;\n",
       "    }\n",
       "\n",
       "    .dataframe tbody tr th {\n",
       "        vertical-align: top;\n",
       "    }\n",
       "\n",
       "    .dataframe thead th {\n",
       "        text-align: right;\n",
       "    }\n",
       "</style>\n",
       "<table border=\"1\" class=\"dataframe\">\n",
       "  <thead>\n",
       "    <tr style=\"text-align: right;\">\n",
       "      <th></th>\n",
       "      <th>Live</th>\n",
       "      <th>30</th>\n",
       "      <th>2</th>\n",
       "      <th>1</th>\n",
       "      <th>2.1</th>\n",
       "      <th>2.2</th>\n",
       "      <th>2.3</th>\n",
       "      <th>2.4</th>\n",
       "      <th>1.1</th>\n",
       "      <th>2.5</th>\n",
       "      <th>...</th>\n",
       "      <th>2.7</th>\n",
       "      <th>2.8</th>\n",
       "      <th>2.9</th>\n",
       "      <th>1.2</th>\n",
       "      <th>85</th>\n",
       "      <th>18</th>\n",
       "      <th>4</th>\n",
       "      <th>?</th>\n",
       "      <th>1.3</th>\n",
       "      <th>150</th>\n",
       "    </tr>\n",
       "  </thead>\n",
       "  <tbody>\n",
       "    <tr>\n",
       "      <th>0</th>\n",
       "      <td>Live</td>\n",
       "      <td>50</td>\n",
       "      <td>1</td>\n",
       "      <td>1</td>\n",
       "      <td>2</td>\n",
       "      <td>1</td>\n",
       "      <td>2</td>\n",
       "      <td>2</td>\n",
       "      <td>1</td>\n",
       "      <td>2</td>\n",
       "      <td>...</td>\n",
       "      <td>2</td>\n",
       "      <td>2</td>\n",
       "      <td>2</td>\n",
       "      <td>0.9</td>\n",
       "      <td>135</td>\n",
       "      <td>42</td>\n",
       "      <td>3.5</td>\n",
       "      <td>?</td>\n",
       "      <td>1</td>\n",
       "      <td>98</td>\n",
       "    </tr>\n",
       "    <tr>\n",
       "      <th>1</th>\n",
       "      <td>Live</td>\n",
       "      <td>78</td>\n",
       "      <td>1</td>\n",
       "      <td>0</td>\n",
       "      <td>2</td>\n",
       "      <td>1</td>\n",
       "      <td>2</td>\n",
       "      <td>2</td>\n",
       "      <td>2</td>\n",
       "      <td>2</td>\n",
       "      <td>...</td>\n",
       "      <td>2</td>\n",
       "      <td>2</td>\n",
       "      <td>2</td>\n",
       "      <td>0.7</td>\n",
       "      <td>96</td>\n",
       "      <td>32</td>\n",
       "      <td>4</td>\n",
       "      <td>?</td>\n",
       "      <td>1</td>\n",
       "      <td>98</td>\n",
       "    </tr>\n",
       "    <tr>\n",
       "      <th>2</th>\n",
       "      <td>Live</td>\n",
       "      <td>31</td>\n",
       "      <td>1</td>\n",
       "      <td>?</td>\n",
       "      <td>1</td>\n",
       "      <td>2</td>\n",
       "      <td>2</td>\n",
       "      <td>2</td>\n",
       "      <td>2</td>\n",
       "      <td>2</td>\n",
       "      <td>...</td>\n",
       "      <td>2</td>\n",
       "      <td>2</td>\n",
       "      <td>2</td>\n",
       "      <td>0.7</td>\n",
       "      <td>46</td>\n",
       "      <td>52</td>\n",
       "      <td>4</td>\n",
       "      <td>80</td>\n",
       "      <td>1</td>\n",
       "      <td>99</td>\n",
       "    </tr>\n",
       "    <tr>\n",
       "      <th>3</th>\n",
       "      <td>Live</td>\n",
       "      <td>34</td>\n",
       "      <td>1</td>\n",
       "      <td>0</td>\n",
       "      <td>2</td>\n",
       "      <td>2</td>\n",
       "      <td>2</td>\n",
       "      <td>2</td>\n",
       "      <td>2</td>\n",
       "      <td>2</td>\n",
       "      <td>...</td>\n",
       "      <td>2</td>\n",
       "      <td>2</td>\n",
       "      <td>2</td>\n",
       "      <td>1</td>\n",
       "      <td>?</td>\n",
       "      <td>200</td>\n",
       "      <td>4</td>\n",
       "      <td>?</td>\n",
       "      <td>1</td>\n",
       "      <td>99</td>\n",
       "    </tr>\n",
       "    <tr>\n",
       "      <th>4</th>\n",
       "      <td>Live</td>\n",
       "      <td>34</td>\n",
       "      <td>1</td>\n",
       "      <td>0</td>\n",
       "      <td>2</td>\n",
       "      <td>2</td>\n",
       "      <td>2</td>\n",
       "      <td>2</td>\n",
       "      <td>2</td>\n",
       "      <td>2</td>\n",
       "      <td>...</td>\n",
       "      <td>2</td>\n",
       "      <td>2</td>\n",
       "      <td>2</td>\n",
       "      <td>0.9</td>\n",
       "      <td>95</td>\n",
       "      <td>28</td>\n",
       "      <td>4</td>\n",
       "      <td>75</td>\n",
       "      <td>1</td>\n",
       "      <td>97</td>\n",
       "    </tr>\n",
       "  </tbody>\n",
       "</table>\n",
       "<p>5 rows × 21 columns</p>\n",
       "</div>"
      ],
      "text/plain": [
       "   Live  30  2  1  2.1 2.2 2.3 2.4 1.1 2.5  ... 2.7 2.8 2.9  1.2   85   18  \\\n",
       "0  Live  50  1  1    2   1   2   2   1   2  ...   2   2   2  0.9  135   42   \n",
       "1  Live  78  1  0    2   1   2   2   2   2  ...   2   2   2  0.7   96   32   \n",
       "2  Live  31  1  ?    1   2   2   2   2   2  ...   2   2   2  0.7   46   52   \n",
       "3  Live  34  1  0    2   2   2   2   2   2  ...   2   2   2    1    ?  200   \n",
       "4  Live  34  1  0    2   2   2   2   2   2  ...   2   2   2  0.9   95   28   \n",
       "\n",
       "     4   ? 1.3  150  \n",
       "0  3.5   ?   1   98  \n",
       "1    4   ?   1   98  \n",
       "2    4  80   1   99  \n",
       "3    4   ?   1   99  \n",
       "4    4  75   1   97  \n",
       "\n",
       "[5 rows x 21 columns]"
      ]
     },
     "execution_count": 107,
     "metadata": {},
     "output_type": "execute_result"
    }
   ],
   "source": [
    "#Se muestran las lineas superiores de la tabla de datos\n",
    "Hepatitis.head()\n"
   ]
  },
  {
   "cell_type": "code",
   "execution_count": 108,
   "id": "4b9c3990",
   "metadata": {},
   "outputs": [],
   "source": [
    "# se nombran las columnas con los features respectivos para cada variable del set de datos\n",
    "column_names = ['Status', 'Age', 'sex', 'steroid', 'antivirals', 'fatigue', 'malaise', 'anorexia', 'liver_big',\n",
    "               'liver_firm', 'spleen_palpable', 'spiders', 'ascites', 'varices', 'bilirubin', 'alk_Phospathe', 'Sgot', 'albumin', 'protime', 'histology', 'datos_Outliers']"
   ]
  },
  {
   "cell_type": "code",
   "execution_count": 109,
   "id": "306328fe",
   "metadata": {},
   "outputs": [],
   "source": [
    "Hepatitis = pd.read_csv(\"hepatitis.csv\",names=column_names)\n"
   ]
  },
  {
   "cell_type": "code",
   "execution_count": 36,
   "id": "0f0f8ea2",
   "metadata": {
    "scrolled": true
   },
   "outputs": [
    {
     "data": {
      "text/html": [
       "<div>\n",
       "<style scoped>\n",
       "    .dataframe tbody tr th:only-of-type {\n",
       "        vertical-align: middle;\n",
       "    }\n",
       "\n",
       "    .dataframe tbody tr th {\n",
       "        vertical-align: top;\n",
       "    }\n",
       "\n",
       "    .dataframe thead th {\n",
       "        text-align: right;\n",
       "    }\n",
       "</style>\n",
       "<table border=\"1\" class=\"dataframe\">\n",
       "  <thead>\n",
       "    <tr style=\"text-align: right;\">\n",
       "      <th></th>\n",
       "      <th>Status</th>\n",
       "      <th>Age</th>\n",
       "      <th>sex</th>\n",
       "      <th>steroid</th>\n",
       "      <th>antivirals</th>\n",
       "      <th>fatigue</th>\n",
       "      <th>malaise</th>\n",
       "      <th>anorexia</th>\n",
       "      <th>liver_big</th>\n",
       "      <th>liver_firm</th>\n",
       "      <th>...</th>\n",
       "      <th>spiders</th>\n",
       "      <th>ascites</th>\n",
       "      <th>varices</th>\n",
       "      <th>bilirubin</th>\n",
       "      <th>alk_Phospathe</th>\n",
       "      <th>Sgot</th>\n",
       "      <th>albumin</th>\n",
       "      <th>protime</th>\n",
       "      <th>histology</th>\n",
       "      <th>datos_Outliers</th>\n",
       "    </tr>\n",
       "  </thead>\n",
       "  <tbody>\n",
       "    <tr>\n",
       "      <th>0</th>\n",
       "      <td>Live</td>\n",
       "      <td>30</td>\n",
       "      <td>2</td>\n",
       "      <td>1</td>\n",
       "      <td>2</td>\n",
       "      <td>2</td>\n",
       "      <td>2</td>\n",
       "      <td>2</td>\n",
       "      <td>1</td>\n",
       "      <td>2</td>\n",
       "      <td>...</td>\n",
       "      <td>2</td>\n",
       "      <td>2</td>\n",
       "      <td>2</td>\n",
       "      <td>1</td>\n",
       "      <td>85</td>\n",
       "      <td>18</td>\n",
       "      <td>4</td>\n",
       "      <td>?</td>\n",
       "      <td>1</td>\n",
       "      <td>150</td>\n",
       "    </tr>\n",
       "    <tr>\n",
       "      <th>1</th>\n",
       "      <td>Live</td>\n",
       "      <td>50</td>\n",
       "      <td>1</td>\n",
       "      <td>1</td>\n",
       "      <td>2</td>\n",
       "      <td>1</td>\n",
       "      <td>2</td>\n",
       "      <td>2</td>\n",
       "      <td>1</td>\n",
       "      <td>2</td>\n",
       "      <td>...</td>\n",
       "      <td>2</td>\n",
       "      <td>2</td>\n",
       "      <td>2</td>\n",
       "      <td>0.9</td>\n",
       "      <td>135</td>\n",
       "      <td>42</td>\n",
       "      <td>3.5</td>\n",
       "      <td>?</td>\n",
       "      <td>1</td>\n",
       "      <td>98</td>\n",
       "    </tr>\n",
       "    <tr>\n",
       "      <th>2</th>\n",
       "      <td>Live</td>\n",
       "      <td>78</td>\n",
       "      <td>1</td>\n",
       "      <td>0</td>\n",
       "      <td>2</td>\n",
       "      <td>1</td>\n",
       "      <td>2</td>\n",
       "      <td>2</td>\n",
       "      <td>2</td>\n",
       "      <td>2</td>\n",
       "      <td>...</td>\n",
       "      <td>2</td>\n",
       "      <td>2</td>\n",
       "      <td>2</td>\n",
       "      <td>0.7</td>\n",
       "      <td>96</td>\n",
       "      <td>32</td>\n",
       "      <td>4</td>\n",
       "      <td>?</td>\n",
       "      <td>1</td>\n",
       "      <td>98</td>\n",
       "    </tr>\n",
       "    <tr>\n",
       "      <th>3</th>\n",
       "      <td>Live</td>\n",
       "      <td>31</td>\n",
       "      <td>1</td>\n",
       "      <td>?</td>\n",
       "      <td>1</td>\n",
       "      <td>2</td>\n",
       "      <td>2</td>\n",
       "      <td>2</td>\n",
       "      <td>2</td>\n",
       "      <td>2</td>\n",
       "      <td>...</td>\n",
       "      <td>2</td>\n",
       "      <td>2</td>\n",
       "      <td>2</td>\n",
       "      <td>0.7</td>\n",
       "      <td>46</td>\n",
       "      <td>52</td>\n",
       "      <td>4</td>\n",
       "      <td>80</td>\n",
       "      <td>1</td>\n",
       "      <td>99</td>\n",
       "    </tr>\n",
       "    <tr>\n",
       "      <th>4</th>\n",
       "      <td>Live</td>\n",
       "      <td>34</td>\n",
       "      <td>1</td>\n",
       "      <td>0</td>\n",
       "      <td>2</td>\n",
       "      <td>2</td>\n",
       "      <td>2</td>\n",
       "      <td>2</td>\n",
       "      <td>2</td>\n",
       "      <td>2</td>\n",
       "      <td>...</td>\n",
       "      <td>2</td>\n",
       "      <td>2</td>\n",
       "      <td>2</td>\n",
       "      <td>1</td>\n",
       "      <td>?</td>\n",
       "      <td>200</td>\n",
       "      <td>4</td>\n",
       "      <td>?</td>\n",
       "      <td>1</td>\n",
       "      <td>99</td>\n",
       "    </tr>\n",
       "  </tbody>\n",
       "</table>\n",
       "<p>5 rows × 21 columns</p>\n",
       "</div>"
      ],
      "text/plain": [
       "  Status  Age  sex steroid  antivirals fatigue malaise anorexia liver_big  \\\n",
       "0   Live   30    2       1           2       2       2        2         1   \n",
       "1   Live   50    1       1           2       1       2        2         1   \n",
       "2   Live   78    1       0           2       1       2        2         2   \n",
       "3   Live   31    1       ?           1       2       2        2         2   \n",
       "4   Live   34    1       0           2       2       2        2         2   \n",
       "\n",
       "  liver_firm  ... spiders ascites varices bilirubin alk_Phospathe Sgot  \\\n",
       "0          2  ...       2       2       2         1            85   18   \n",
       "1          2  ...       2       2       2       0.9           135   42   \n",
       "2          2  ...       2       2       2       0.7            96   32   \n",
       "3          2  ...       2       2       2       0.7            46   52   \n",
       "4          2  ...       2       2       2         1             ?  200   \n",
       "\n",
       "  albumin protime histology  datos_Outliers  \n",
       "0       4       ?         1             150  \n",
       "1     3.5       ?         1              98  \n",
       "2       4       ?         1              98  \n",
       "3       4      80         1              99  \n",
       "4       4       ?         1              99  \n",
       "\n",
       "[5 rows x 21 columns]"
      ]
     },
     "execution_count": 36,
     "metadata": {},
     "output_type": "execute_result"
    }
   ],
   "source": [
    "#Se muestran las lineas superiores de la tabla de datos ya con los nombres asignados\n",
    "Hepatitis.head()"
   ]
  },
  {
   "cell_type": "markdown",
   "id": "450f7dca",
   "metadata": {},
   "source": [
    "## se procede a realizar un analisis exploratorio de los datos como ejemplo"
   ]
  },
  {
   "cell_type": "code",
   "execution_count": 53,
   "id": "618699ae",
   "metadata": {
    "scrolled": false
   },
   "outputs": [
    {
     "name": "stdout",
     "output_type": "stream",
     "text": [
      "<class 'pandas.core.frame.DataFrame'>\n",
      "RangeIndex: 155 entries, 0 to 154\n",
      "Data columns (total 21 columns):\n",
      " #   Column           Non-Null Count  Dtype \n",
      "---  ------           --------------  ----- \n",
      " 0   Status           155 non-null    object\n",
      " 1   Age              155 non-null    int64 \n",
      " 2   sex              155 non-null    int64 \n",
      " 3   steroid          155 non-null    object\n",
      " 4   antivirals       155 non-null    int64 \n",
      " 5   fatigue          155 non-null    object\n",
      " 6   malaise          155 non-null    object\n",
      " 7   anorexia         155 non-null    object\n",
      " 8   liver_big        155 non-null    object\n",
      " 9   liver_firm       155 non-null    object\n",
      " 10  spleen_palpable  155 non-null    object\n",
      " 11  spiders          155 non-null    object\n",
      " 12  ascites          155 non-null    object\n",
      " 13  varices          155 non-null    object\n",
      " 14  bilirubin        155 non-null    object\n",
      " 15  alk_Phospathe    155 non-null    object\n",
      " 16  Sgot             155 non-null    object\n",
      " 17  albumin          155 non-null    object\n",
      " 18  protime          155 non-null    object\n",
      " 19  histology        155 non-null    int64 \n",
      " 20  datos_Outliers   155 non-null    int64 \n",
      "dtypes: int64(5), object(16)\n",
      "memory usage: 25.6+ KB\n"
     ]
    },
    {
     "data": {
      "text/plain": [
       "(155, 21)"
      ]
     },
     "execution_count": 53,
     "metadata": {},
     "output_type": "execute_result"
    }
   ],
   "source": [
    "#En esta salida vemos las columnas, el total de filas y la cantidad de filas sin nulos. También los tipos de datos\n",
    "Hepatitis.info()\n",
    "# Dimensiones del dataset\n",
    "# ==============================================================================\n",
    "Hepatitis.shape"
   ]
  },
  {
   "cell_type": "code",
   "execution_count": 54,
   "id": "c7a681b9",
   "metadata": {},
   "outputs": [
    {
     "data": {
      "text/plain": [
       "Status             0\n",
       "protime            0\n",
       "albumin            0\n",
       "Sgot               0\n",
       "alk_Phospathe      0\n",
       "bilirubin          0\n",
       "varices            0\n",
       "ascites            0\n",
       "spiders            0\n",
       "histology          0\n",
       "spleen_palpable    0\n",
       "liver_big          0\n",
       "anorexia           0\n",
       "malaise            0\n",
       "fatigue            0\n",
       "antivirals         0\n",
       "steroid            0\n",
       "sex                0\n",
       "Age                0\n",
       "liver_firm         0\n",
       "datos_Outliers     0\n",
       "dtype: int64"
      ]
     },
     "execution_count": 54,
     "metadata": {},
     "output_type": "execute_result"
    }
   ],
   "source": [
    "# Número de datos ausentes por variable\n",
    "# ==============================================================================\n",
    "Hepatitis.isna().sum().sort_values()"
   ]
  },
  {
   "cell_type": "code",
   "execution_count": 38,
   "id": "98a91a8f",
   "metadata": {},
   "outputs": [
    {
     "data": {
      "text/html": [
       "<div>\n",
       "<style scoped>\n",
       "    .dataframe tbody tr th:only-of-type {\n",
       "        vertical-align: middle;\n",
       "    }\n",
       "\n",
       "    .dataframe tbody tr th {\n",
       "        vertical-align: top;\n",
       "    }\n",
       "\n",
       "    .dataframe thead th {\n",
       "        text-align: right;\n",
       "    }\n",
       "</style>\n",
       "<table border=\"1\" class=\"dataframe\">\n",
       "  <thead>\n",
       "    <tr style=\"text-align: right;\">\n",
       "      <th></th>\n",
       "      <th>Age</th>\n",
       "      <th>sex</th>\n",
       "      <th>antivirals</th>\n",
       "      <th>histology</th>\n",
       "      <th>datos_Outliers</th>\n",
       "    </tr>\n",
       "  </thead>\n",
       "  <tbody>\n",
       "    <tr>\n",
       "      <th>count</th>\n",
       "      <td>155.000000</td>\n",
       "      <td>155.000000</td>\n",
       "      <td>155.000000</td>\n",
       "      <td>155.000000</td>\n",
       "      <td>155.000000</td>\n",
       "    </tr>\n",
       "    <tr>\n",
       "      <th>mean</th>\n",
       "      <td>41.200000</td>\n",
       "      <td>1.103226</td>\n",
       "      <td>1.845161</td>\n",
       "      <td>1.451613</td>\n",
       "      <td>98.670968</td>\n",
       "    </tr>\n",
       "    <tr>\n",
       "      <th>std</th>\n",
       "      <td>12.565878</td>\n",
       "      <td>0.305240</td>\n",
       "      <td>0.362923</td>\n",
       "      <td>0.499266</td>\n",
       "      <td>10.844898</td>\n",
       "    </tr>\n",
       "    <tr>\n",
       "      <th>min</th>\n",
       "      <td>7.000000</td>\n",
       "      <td>1.000000</td>\n",
       "      <td>1.000000</td>\n",
       "      <td>1.000000</td>\n",
       "      <td>10.000000</td>\n",
       "    </tr>\n",
       "    <tr>\n",
       "      <th>25%</th>\n",
       "      <td>32.000000</td>\n",
       "      <td>1.000000</td>\n",
       "      <td>2.000000</td>\n",
       "      <td>1.000000</td>\n",
       "      <td>98.000000</td>\n",
       "    </tr>\n",
       "    <tr>\n",
       "      <th>50%</th>\n",
       "      <td>39.000000</td>\n",
       "      <td>1.000000</td>\n",
       "      <td>2.000000</td>\n",
       "      <td>1.000000</td>\n",
       "      <td>99.000000</td>\n",
       "    </tr>\n",
       "    <tr>\n",
       "      <th>75%</th>\n",
       "      <td>50.000000</td>\n",
       "      <td>1.000000</td>\n",
       "      <td>2.000000</td>\n",
       "      <td>2.000000</td>\n",
       "      <td>100.000000</td>\n",
       "    </tr>\n",
       "    <tr>\n",
       "      <th>max</th>\n",
       "      <td>78.000000</td>\n",
       "      <td>2.000000</td>\n",
       "      <td>2.000000</td>\n",
       "      <td>2.000000</td>\n",
       "      <td>150.000000</td>\n",
       "    </tr>\n",
       "  </tbody>\n",
       "</table>\n",
       "</div>"
      ],
      "text/plain": [
       "              Age         sex  antivirals   histology  datos_Outliers\n",
       "count  155.000000  155.000000  155.000000  155.000000      155.000000\n",
       "mean    41.200000    1.103226    1.845161    1.451613       98.670968\n",
       "std     12.565878    0.305240    0.362923    0.499266       10.844898\n",
       "min      7.000000    1.000000    1.000000    1.000000       10.000000\n",
       "25%     32.000000    1.000000    2.000000    1.000000       98.000000\n",
       "50%     39.000000    1.000000    2.000000    1.000000       99.000000\n",
       "75%     50.000000    1.000000    2.000000    2.000000      100.000000\n",
       "max     78.000000    2.000000    2.000000    2.000000      150.000000"
      ]
     },
     "execution_count": 38,
     "metadata": {},
     "output_type": "execute_result"
    }
   ],
   "source": [
    "#Pandas filtra las features numéricas y calcula datos estadísticos que pueden ser útiles\n",
    "#cantidad, media, desvío estándar, valores máximo y mínimo.\n",
    "Hepatitis.describe()"
   ]
  },
  {
   "cell_type": "code",
   "execution_count": 45,
   "id": "3a2f8772",
   "metadata": {},
   "outputs": [],
   "source": [
    "# se reemplazan los valores 2 para defijinir los datos en terminos de 1s y 0s\n",
    "Hepatitis.replace(to_replace='2', value = 0, inplace = True)\n"
   ]
  },
  {
   "cell_type": "code",
   "execution_count": 46,
   "id": "1690152b",
   "metadata": {},
   "outputs": [],
   "source": [
    "# se reemplazan los valores  para definir los datos en terminos de 1s y 0s\n",
    "Hepatitis.replace(to_replace='?', value = np.nan, inplace = True)"
   ]
  },
  {
   "cell_type": "code",
   "execution_count": 47,
   "id": "e31860df",
   "metadata": {},
   "outputs": [
    {
     "data": {
      "text/html": [
       "<div>\n",
       "<style scoped>\n",
       "    .dataframe tbody tr th:only-of-type {\n",
       "        vertical-align: middle;\n",
       "    }\n",
       "\n",
       "    .dataframe tbody tr th {\n",
       "        vertical-align: top;\n",
       "    }\n",
       "\n",
       "    .dataframe thead th {\n",
       "        text-align: right;\n",
       "    }\n",
       "</style>\n",
       "<table border=\"1\" class=\"dataframe\">\n",
       "  <thead>\n",
       "    <tr style=\"text-align: right;\">\n",
       "      <th></th>\n",
       "      <th>Status</th>\n",
       "      <th>Age</th>\n",
       "      <th>sex</th>\n",
       "      <th>steroid</th>\n",
       "      <th>antivirals</th>\n",
       "      <th>fatigue</th>\n",
       "      <th>malaise</th>\n",
       "      <th>anorexia</th>\n",
       "      <th>liver_big</th>\n",
       "      <th>liver_firm</th>\n",
       "      <th>...</th>\n",
       "      <th>spiders</th>\n",
       "      <th>ascites</th>\n",
       "      <th>varices</th>\n",
       "      <th>bilirubin</th>\n",
       "      <th>alk_Phospathe</th>\n",
       "      <th>Sgot</th>\n",
       "      <th>albumin</th>\n",
       "      <th>protime</th>\n",
       "      <th>histology</th>\n",
       "      <th>datos_Outliers</th>\n",
       "    </tr>\n",
       "  </thead>\n",
       "  <tbody>\n",
       "    <tr>\n",
       "      <th>0</th>\n",
       "      <td>Live</td>\n",
       "      <td>30</td>\n",
       "      <td>2</td>\n",
       "      <td>1</td>\n",
       "      <td>2</td>\n",
       "      <td>0</td>\n",
       "      <td>0</td>\n",
       "      <td>0</td>\n",
       "      <td>1</td>\n",
       "      <td>0</td>\n",
       "      <td>...</td>\n",
       "      <td>0</td>\n",
       "      <td>0</td>\n",
       "      <td>0</td>\n",
       "      <td>1</td>\n",
       "      <td>85</td>\n",
       "      <td>18</td>\n",
       "      <td>4</td>\n",
       "      <td>61.0</td>\n",
       "      <td>1</td>\n",
       "      <td>150</td>\n",
       "    </tr>\n",
       "    <tr>\n",
       "      <th>1</th>\n",
       "      <td>Live</td>\n",
       "      <td>50</td>\n",
       "      <td>1</td>\n",
       "      <td>1</td>\n",
       "      <td>2</td>\n",
       "      <td>1</td>\n",
       "      <td>0</td>\n",
       "      <td>0</td>\n",
       "      <td>1</td>\n",
       "      <td>0</td>\n",
       "      <td>...</td>\n",
       "      <td>0</td>\n",
       "      <td>0</td>\n",
       "      <td>0</td>\n",
       "      <td>0.9</td>\n",
       "      <td>135</td>\n",
       "      <td>42</td>\n",
       "      <td>3.5</td>\n",
       "      <td>61.0</td>\n",
       "      <td>1</td>\n",
       "      <td>98</td>\n",
       "    </tr>\n",
       "    <tr>\n",
       "      <th>2</th>\n",
       "      <td>Live</td>\n",
       "      <td>78</td>\n",
       "      <td>1</td>\n",
       "      <td>0</td>\n",
       "      <td>2</td>\n",
       "      <td>1</td>\n",
       "      <td>0</td>\n",
       "      <td>0</td>\n",
       "      <td>0</td>\n",
       "      <td>0</td>\n",
       "      <td>...</td>\n",
       "      <td>0</td>\n",
       "      <td>0</td>\n",
       "      <td>0</td>\n",
       "      <td>0.7</td>\n",
       "      <td>96</td>\n",
       "      <td>32</td>\n",
       "      <td>4</td>\n",
       "      <td>61.0</td>\n",
       "      <td>1</td>\n",
       "      <td>98</td>\n",
       "    </tr>\n",
       "    <tr>\n",
       "      <th>3</th>\n",
       "      <td>Live</td>\n",
       "      <td>31</td>\n",
       "      <td>1</td>\n",
       "      <td>0.0</td>\n",
       "      <td>1</td>\n",
       "      <td>0</td>\n",
       "      <td>0</td>\n",
       "      <td>0</td>\n",
       "      <td>0</td>\n",
       "      <td>0</td>\n",
       "      <td>...</td>\n",
       "      <td>0</td>\n",
       "      <td>0</td>\n",
       "      <td>0</td>\n",
       "      <td>0.7</td>\n",
       "      <td>46</td>\n",
       "      <td>52</td>\n",
       "      <td>4</td>\n",
       "      <td>80</td>\n",
       "      <td>1</td>\n",
       "      <td>99</td>\n",
       "    </tr>\n",
       "    <tr>\n",
       "      <th>4</th>\n",
       "      <td>Live</td>\n",
       "      <td>34</td>\n",
       "      <td>1</td>\n",
       "      <td>0</td>\n",
       "      <td>2</td>\n",
       "      <td>0</td>\n",
       "      <td>0</td>\n",
       "      <td>0</td>\n",
       "      <td>0</td>\n",
       "      <td>0</td>\n",
       "      <td>...</td>\n",
       "      <td>0</td>\n",
       "      <td>0</td>\n",
       "      <td>0</td>\n",
       "      <td>1</td>\n",
       "      <td>85.0</td>\n",
       "      <td>200</td>\n",
       "      <td>4</td>\n",
       "      <td>61.0</td>\n",
       "      <td>1</td>\n",
       "      <td>99</td>\n",
       "    </tr>\n",
       "  </tbody>\n",
       "</table>\n",
       "<p>5 rows × 21 columns</p>\n",
       "</div>"
      ],
      "text/plain": [
       "  Status  Age  sex steroid  antivirals fatigue malaise anorexia liver_big  \\\n",
       "0   Live   30    2       1           2       0       0        0         1   \n",
       "1   Live   50    1       1           2       1       0        0         1   \n",
       "2   Live   78    1       0           2       1       0        0         0   \n",
       "3   Live   31    1     0.0           1       0       0        0         0   \n",
       "4   Live   34    1       0           2       0       0        0         0   \n",
       "\n",
       "  liver_firm  ... spiders ascites varices bilirubin alk_Phospathe Sgot  \\\n",
       "0          0  ...       0       0       0         1            85   18   \n",
       "1          0  ...       0       0       0       0.9           135   42   \n",
       "2          0  ...       0       0       0       0.7            96   32   \n",
       "3          0  ...       0       0       0       0.7            46   52   \n",
       "4          0  ...       0       0       0         1          85.0  200   \n",
       "\n",
       "  albumin protime histology  datos_Outliers  \n",
       "0       4    61.0         1             150  \n",
       "1     3.5    61.0         1              98  \n",
       "2       4    61.0         1              98  \n",
       "3       4      80         1              99  \n",
       "4       4    61.0         1              99  \n",
       "\n",
       "[5 rows x 21 columns]"
      ]
     },
     "execution_count": 47,
     "metadata": {},
     "output_type": "execute_result"
    }
   ],
   "source": [
    "Hepatitis.head()"
   ]
  },
  {
   "cell_type": "code",
   "execution_count": 48,
   "id": "17feea3b",
   "metadata": {},
   "outputs": [],
   "source": [
    "# se reemplazan los valores NAN por la mediana en este caso para que se puedan ajustar los datos.\n",
    "Hepatitis.fillna(Hepatitis.median(), inplace = True)"
   ]
  },
  {
   "cell_type": "code",
   "execution_count": 49,
   "id": "ccccbca0",
   "metadata": {},
   "outputs": [
    {
     "data": {
      "text/html": [
       "<div>\n",
       "<style scoped>\n",
       "    .dataframe tbody tr th:only-of-type {\n",
       "        vertical-align: middle;\n",
       "    }\n",
       "\n",
       "    .dataframe tbody tr th {\n",
       "        vertical-align: top;\n",
       "    }\n",
       "\n",
       "    .dataframe thead th {\n",
       "        text-align: right;\n",
       "    }\n",
       "</style>\n",
       "<table border=\"1\" class=\"dataframe\">\n",
       "  <thead>\n",
       "    <tr style=\"text-align: right;\">\n",
       "      <th></th>\n",
       "      <th>Status</th>\n",
       "      <th>Age</th>\n",
       "      <th>sex</th>\n",
       "      <th>steroid</th>\n",
       "      <th>antivirals</th>\n",
       "      <th>fatigue</th>\n",
       "      <th>malaise</th>\n",
       "      <th>anorexia</th>\n",
       "      <th>liver_big</th>\n",
       "      <th>liver_firm</th>\n",
       "      <th>...</th>\n",
       "      <th>spiders</th>\n",
       "      <th>ascites</th>\n",
       "      <th>varices</th>\n",
       "      <th>bilirubin</th>\n",
       "      <th>alk_Phospathe</th>\n",
       "      <th>Sgot</th>\n",
       "      <th>albumin</th>\n",
       "      <th>protime</th>\n",
       "      <th>histology</th>\n",
       "      <th>datos_Outliers</th>\n",
       "    </tr>\n",
       "  </thead>\n",
       "  <tbody>\n",
       "    <tr>\n",
       "      <th>0</th>\n",
       "      <td>Live</td>\n",
       "      <td>30</td>\n",
       "      <td>2</td>\n",
       "      <td>1</td>\n",
       "      <td>2</td>\n",
       "      <td>0</td>\n",
       "      <td>0</td>\n",
       "      <td>0</td>\n",
       "      <td>1</td>\n",
       "      <td>0</td>\n",
       "      <td>...</td>\n",
       "      <td>0</td>\n",
       "      <td>0</td>\n",
       "      <td>0</td>\n",
       "      <td>1</td>\n",
       "      <td>85</td>\n",
       "      <td>18</td>\n",
       "      <td>4</td>\n",
       "      <td>61.0</td>\n",
       "      <td>1</td>\n",
       "      <td>150</td>\n",
       "    </tr>\n",
       "    <tr>\n",
       "      <th>1</th>\n",
       "      <td>Live</td>\n",
       "      <td>50</td>\n",
       "      <td>1</td>\n",
       "      <td>1</td>\n",
       "      <td>2</td>\n",
       "      <td>1</td>\n",
       "      <td>0</td>\n",
       "      <td>0</td>\n",
       "      <td>1</td>\n",
       "      <td>0</td>\n",
       "      <td>...</td>\n",
       "      <td>0</td>\n",
       "      <td>0</td>\n",
       "      <td>0</td>\n",
       "      <td>0.9</td>\n",
       "      <td>135</td>\n",
       "      <td>42</td>\n",
       "      <td>3.5</td>\n",
       "      <td>61.0</td>\n",
       "      <td>1</td>\n",
       "      <td>98</td>\n",
       "    </tr>\n",
       "    <tr>\n",
       "      <th>2</th>\n",
       "      <td>Live</td>\n",
       "      <td>78</td>\n",
       "      <td>1</td>\n",
       "      <td>0</td>\n",
       "      <td>2</td>\n",
       "      <td>1</td>\n",
       "      <td>0</td>\n",
       "      <td>0</td>\n",
       "      <td>0</td>\n",
       "      <td>0</td>\n",
       "      <td>...</td>\n",
       "      <td>0</td>\n",
       "      <td>0</td>\n",
       "      <td>0</td>\n",
       "      <td>0.7</td>\n",
       "      <td>96</td>\n",
       "      <td>32</td>\n",
       "      <td>4</td>\n",
       "      <td>61.0</td>\n",
       "      <td>1</td>\n",
       "      <td>98</td>\n",
       "    </tr>\n",
       "    <tr>\n",
       "      <th>3</th>\n",
       "      <td>Live</td>\n",
       "      <td>31</td>\n",
       "      <td>1</td>\n",
       "      <td>0.0</td>\n",
       "      <td>1</td>\n",
       "      <td>0</td>\n",
       "      <td>0</td>\n",
       "      <td>0</td>\n",
       "      <td>0</td>\n",
       "      <td>0</td>\n",
       "      <td>...</td>\n",
       "      <td>0</td>\n",
       "      <td>0</td>\n",
       "      <td>0</td>\n",
       "      <td>0.7</td>\n",
       "      <td>46</td>\n",
       "      <td>52</td>\n",
       "      <td>4</td>\n",
       "      <td>80</td>\n",
       "      <td>1</td>\n",
       "      <td>99</td>\n",
       "    </tr>\n",
       "    <tr>\n",
       "      <th>4</th>\n",
       "      <td>Live</td>\n",
       "      <td>34</td>\n",
       "      <td>1</td>\n",
       "      <td>0</td>\n",
       "      <td>2</td>\n",
       "      <td>0</td>\n",
       "      <td>0</td>\n",
       "      <td>0</td>\n",
       "      <td>0</td>\n",
       "      <td>0</td>\n",
       "      <td>...</td>\n",
       "      <td>0</td>\n",
       "      <td>0</td>\n",
       "      <td>0</td>\n",
       "      <td>1</td>\n",
       "      <td>85.0</td>\n",
       "      <td>200</td>\n",
       "      <td>4</td>\n",
       "      <td>61.0</td>\n",
       "      <td>1</td>\n",
       "      <td>99</td>\n",
       "    </tr>\n",
       "  </tbody>\n",
       "</table>\n",
       "<p>5 rows × 21 columns</p>\n",
       "</div>"
      ],
      "text/plain": [
       "  Status  Age  sex steroid  antivirals fatigue malaise anorexia liver_big  \\\n",
       "0   Live   30    2       1           2       0       0        0         1   \n",
       "1   Live   50    1       1           2       1       0        0         1   \n",
       "2   Live   78    1       0           2       1       0        0         0   \n",
       "3   Live   31    1     0.0           1       0       0        0         0   \n",
       "4   Live   34    1       0           2       0       0        0         0   \n",
       "\n",
       "  liver_firm  ... spiders ascites varices bilirubin alk_Phospathe Sgot  \\\n",
       "0          0  ...       0       0       0         1            85   18   \n",
       "1          0  ...       0       0       0       0.9           135   42   \n",
       "2          0  ...       0       0       0       0.7            96   32   \n",
       "3          0  ...       0       0       0       0.7            46   52   \n",
       "4          0  ...       0       0       0         1          85.0  200   \n",
       "\n",
       "  albumin protime histology  datos_Outliers  \n",
       "0       4    61.0         1             150  \n",
       "1     3.5    61.0         1              98  \n",
       "2       4    61.0         1              98  \n",
       "3       4      80         1              99  \n",
       "4       4    61.0         1              99  \n",
       "\n",
       "[5 rows x 21 columns]"
      ]
     },
     "execution_count": 49,
     "metadata": {},
     "output_type": "execute_result"
    }
   ],
   "source": [
    "Hepatitis.head()"
   ]
  },
  {
   "cell_type": "markdown",
   "id": "681ccb6f",
   "metadata": {},
   "source": [
    "# Graficacion\n",
    "### se grafican algunos datos como ejemplo"
   ]
  },
  {
   "cell_type": "code",
   "execution_count": 596,
   "id": "a80cc27c",
   "metadata": {},
   "outputs": [
    {
     "data": {
      "image/png": "[encoded data removed]",
      "text/plain": [
       "<Figure size 432x288 with 1 Axes>"
      ]
     },
     "metadata": {
      "needs_background": "light"
     },
     "output_type": "display_data"
    }
   ],
   "source": [
    "plt.figure()\n",
    "sns.countplot(x='antivirals', hue='Status', data=Hepatitis, palette='rainbow')\n",
    "plt.xticks([0,1], ['No', 'Yes'])\n",
    "plt.show()"
   ]
  },
  {
   "cell_type": "code",
   "execution_count": 597,
   "id": "4825ff8f",
   "metadata": {},
   "outputs": [
    {
     "data": {
      "image/png": "[encoded data removed]",
      "text/plain": [
       "<Figure size 432x288 with 1 Axes>"
      ]
     },
     "metadata": {
      "needs_background": "light"
     },
     "output_type": "display_data"
    }
   ],
   "source": [
    "plt.figure()\n",
    "sns.countplot(x='anorexia', hue='Status', data=Hepatitis, palette='PiYG')\n",
    "plt.show()"
   ]
  },
  {
   "cell_type": "markdown",
   "id": "975e4f0d",
   "metadata": {},
   "source": [
    "# Analisis de Outliers\n",
    "### se realizan diferentes formas de indentificacion de Outliers \n",
    "Se mofifico el set de datos agregando una columna de datos llamada datos_Outliers para poder demostrarlas diferentes tecnicas para la deteccion de outliers  ( se agregaron 3 valores como outliers)"
   ]
  },
  {
   "cell_type": "code",
   "execution_count": 50,
   "id": "eb3b178c",
   "metadata": {},
   "outputs": [
    {
     "name": "stderr",
     "output_type": "stream",
     "text": [
      "C:\\ProgramData\\Miniconda3\\envs\\juanca\\lib\\site-packages\\seaborn\\distributions.py:2551: FutureWarning: `distplot` is a deprecated function and will be removed in a future version. Please adapt your code to use either `displot` (a figure-level function with similar flexibility) or `histplot` (an axes-level function for histograms).\n",
      "  warnings.warn(msg, FutureWarning)\n"
     ]
    },
    {
     "data": {
      "image/png": "[encoded data removed]",
      "text/plain": [
       "<Figure size 432x288 with 1 Axes>"
      ]
     },
     "metadata": {
      "needs_background": "light"
     },
     "output_type": "display_data"
    }
   ],
   "source": [
    "## Funcion para graficar, no se observan outlier de una manera facil\n",
    "ax = sns. distplot(Hepatitis.datos_Outliers, hist=True, hist_kws={\"edgecolor\": 'w', \"linewidth\": 3}, kde_kws={\"linewidth\": 3}) \n",
    "plt. xticks(fontsize=14)\n",
    "plt. yticks(fontsize=14)\n",
    "\n",
    "# etiquetas y título\n",
    "plt. xlabel('Values', fontsize=14)\n",
    "plt. ylabel('frecuencia', fontsize=14)\n",
    "plt. title('Deteccion Outliers', fontsize=20);"
   ]
  },
  {
   "cell_type": "code",
   "execution_count": 599,
   "id": "dadd0133",
   "metadata": {},
   "outputs": [
    {
     "data": {
      "text/plain": [
       "{'whiskers': [<matplotlib.lines.Line2D at 0x22bc4048400>,\n",
       "  <matplotlib.lines.Line2D at 0x22bc4048340>],\n",
       " 'caps': [<matplotlib.lines.Line2D at 0x22bc4059160>,\n",
       "  <matplotlib.lines.Line2D at 0x22bc4059ee0>],\n",
       " 'boxes': [<matplotlib.lines.Line2D at 0x22bc40488e0>],\n",
       " 'medians': [<matplotlib.lines.Line2D at 0x22bc4059d30>],\n",
       " 'fliers': [<matplotlib.lines.Line2D at 0x22bc4059430>],\n",
       " 'means': []}"
      ]
     },
     "execution_count": 599,
     "metadata": {},
     "output_type": "execute_result"
    },
    {
     "data": {
      "image/png": "[encoded data removed]",
      "text/plain": [
       "<Figure size 432x288 with 1 Axes>"
      ]
     },
     "metadata": {
      "needs_background": "light"
     },
     "output_type": "display_data"
    }
   ],
   "source": [
    "## se utiliza la tecnica para graficar un boxplot  y de una manera visual detectar posibles outliers, \n",
    "#la figura muestra en verde los datos atipicos\n",
    "Datos = Hepatitis.datos_Outliers\n",
    "green_diamond = dict(markerfacecolor='g', marker='D')\n",
    "fig, ax = plt.subplots()\n",
    "ax.set_title('Outliers')\n",
    "ax.boxplot(Datos, flierprops=green_diamond, labels=[\"Datos\"])"
   ]
  },
  {
   "cell_type": "code",
   "execution_count": 600,
   "id": "616e05ac",
   "metadata": {},
   "outputs": [
    {
     "name": "stderr",
     "output_type": "stream",
     "text": [
      "C:\\ProgramData\\Miniconda3\\envs\\juanca\\lib\\site-packages\\seaborn\\_decorators.py:36: FutureWarning: Pass the following variable as a keyword arg: x. From version 0.12, the only valid positional argument will be `data`, and passing other arguments without an explicit keyword will result in an error or misinterpretation.\n",
      "  warnings.warn(\n"
     ]
    },
    {
     "data": {
      "text/plain": [
       "<AxesSubplot:xlabel='datos_Outliers'>"
      ]
     },
     "execution_count": 600,
     "metadata": {},
     "output_type": "execute_result"
    },
    {
     "data": {
      "image/png": "[encoded data removed]",
      "text/plain": [
       "<Figure size 432x288 with 1 Axes>"
      ]
     },
     "metadata": {
      "needs_background": "light"
     },
     "output_type": "display_data"
    }
   ],
   "source": [
    "## se utiliza otro ejemplo de graficar un boxplot  y de una manera visual detectar posibles outliers, \n",
    "#la figura muestra en verde los datos atipicos\n",
    "sns.boxplot(Hepatitis.datos_Outliers)"
   ]
  },
  {
   "cell_type": "code",
   "execution_count": 601,
   "id": "36e25cf0",
   "metadata": {
    "scrolled": true
   },
   "outputs": [
    {
     "name": "stdout",
     "output_type": "stream",
     "text": [
      "[4.74835402 0.06206999 0.06206999 0.03043817 0.03043817 0.15457814\n",
      " 0.21545447 0.12294632 0.12294632 0.06206999 0.06206999 0.03043817\n",
      " 0.03043817 0.15457814 0.21545447 0.12294632 0.12294632 0.06206999\n",
      " 0.06206999 0.03043817 0.03043817 0.15457814 0.21545447 0.12294632\n",
      " 0.12294632 0.06206999 0.06206999 0.03043817 0.03043817 0.15457814\n",
      " 0.21545447 0.12294632 4.74835402 6.35262446 0.12294632 0.06206999\n",
      " 0.06206999 0.03043817 0.03043817 0.15457814 0.21545447 0.12294632\n",
      " 0.12294632 0.06206999 0.06206999 0.03043817 0.03043817 0.15457814\n",
      " 0.21545447 0.12294632 0.12294632 0.06206999 0.06206999 0.03043817\n",
      " 0.03043817 0.15457814 0.21545447 0.12294632 0.12294632 0.06206999\n",
      " 0.06206999 0.03043817 0.03043817 0.15457814 0.21545447 0.12294632\n",
      " 0.12294632 0.06206999 0.06206999 0.03043817 0.03043817 0.15457814\n",
      " 0.21545447 0.12294632 0.12294632 0.06206999 0.06206999 0.03043817\n",
      " 0.03043817 0.15457814 0.21545447 0.12294632 8.20278753 0.03043817\n",
      " 0.15457814 0.21545447 0.12294632 0.12294632 0.06206999 0.06206999\n",
      " 0.03043817 0.03043817 0.15457814 0.21545447 0.12294632 0.03043817\n",
      " 0.15457814 0.21545447 0.12294632 0.12294632 0.06206999 0.06206999\n",
      " 0.03043817 0.03043817 0.15457814 0.21545447 0.12294632 0.03043817\n",
      " 0.15457814 0.21545447 0.12294632 0.12294632 0.06206999 0.06206999\n",
      " 0.03043817 0.03043817 0.15457814 0.21545447 0.12294632 0.03043817\n",
      " 0.15457814 0.21545447 0.12294632 0.12294632 0.06206999 0.06206999\n",
      " 0.03043817 0.03043817 0.15457814 0.21545447 0.12294632 0.03043817\n",
      " 0.15457814 0.21545447 0.12294632 0.12294632 0.06206999 0.06206999\n",
      " 0.03043817 0.03043817 0.15457814 0.21545447 0.12294632 0.03043817\n",
      " 0.15457814 0.21545447 0.12294632 0.12294632 0.06206999 0.06206999\n",
      " 0.03043817 0.03043817 0.15457814 0.21545447 0.12294632]\n"
     ]
    }
   ],
   "source": [
    "# se utiliza otra tecnica con Zscore para darle un score a los valores y poder determinar\n",
    "#cuales estan fuera por 3 desviaciones standard para arriba o para abajo de la media.\n",
    "z = np.abs(stats.zscore(Hepatitis.datos_Outliers))\n",
    "print(z)"
   ]
  },
  {
   "cell_type": "code",
   "execution_count": 602,
   "id": "04c4bc78",
   "metadata": {
    "scrolled": true
   },
   "outputs": [
    {
     "name": "stdout",
     "output_type": "stream",
     "text": [
      "(array([ 0, 32, 33, 82], dtype=int64),)\n"
     ]
    }
   ],
   "source": [
    "# se muestras las posicion en el set de datos donde estan estos valores que estan fuera de la media \n",
    "print(np.where(z > 3))\n",
    "Outliers= np.where(z > 3)"
   ]
  },
  {
   "cell_type": "code",
   "execution_count": 603,
   "id": "29f9736f",
   "metadata": {},
   "outputs": [],
   "source": [
    "# se remueven los outliers para volver a graficar los datos \n",
    "Datos_limpios = Hepatitis.datos_Outliers.drop(Hepatitis.datos_Outliers.index[Outliers])"
   ]
  },
  {
   "cell_type": "code",
   "execution_count": 604,
   "id": "72b6633d",
   "metadata": {},
   "outputs": [
    {
     "name": "stderr",
     "output_type": "stream",
     "text": [
      "C:\\ProgramData\\Miniconda3\\envs\\juanca\\lib\\site-packages\\seaborn\\_decorators.py:36: FutureWarning: Pass the following variable as a keyword arg: x. From version 0.12, the only valid positional argument will be `data`, and passing other arguments without an explicit keyword will result in an error or misinterpretation.\n",
      "  warnings.warn(\n"
     ]
    },
    {
     "data": {
      "text/plain": [
       "<AxesSubplot:xlabel='datos_Outliers'>"
      ]
     },
     "execution_count": 604,
     "metadata": {},
     "output_type": "execute_result"
    },
    {
     "data": {
      "image/png": "[encoded data removed]",
      "text/plain": [
       "<Figure size 432x288 with 1 Axes>"
      ]
     },
     "metadata": {
      "needs_background": "light"
     },
     "output_type": "display_data"
    }
   ],
   "source": [
    "# Grafico boxplot con outliers eliminados\n",
    "sns.boxplot(Datos_limpios)"
   ]
  },
  {
   "cell_type": "code",
   "execution_count": 605,
   "id": "46b61108",
   "metadata": {},
   "outputs": [
    {
     "name": "stdout",
     "output_type": "stream",
     "text": [
      "1       98\n",
      "2       98\n",
      "3       99\n",
      "4       99\n",
      "5       97\n",
      "      ... \n",
      "150     99\n",
      "151     99\n",
      "152     97\n",
      "153    101\n",
      "154    100\n",
      "Name: datos_Outliers, Length: 151, dtype: int64\n"
     ]
    }
   ],
   "source": [
    "print(Datos_limpios)"
   ]
  }
 ],
 "metadata": {
  "kernelspec": {
   "display_name": "Python 3",
   "language": "python",
   "name": "python3"
  },
  "language_info": {
   "codemirror_mode": {
    "name": "ipython",
    "version": 3
   },
   "file_extension": ".py",
   "mimetype": "text/x-python",
   "name": "python",
   "nbconvert_exporter": "python",
   "pygments_lexer": "ipython3",
   "version": "3.9.5"
  }
 },
 "nbformat": 4,
 "nbformat_minor": 5
}
